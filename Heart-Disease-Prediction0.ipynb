{
 "cells": [
  {
   "cell_type": "markdown",
   "id": "e9c22c22",
   "metadata": {},
   "source": [
    "# Heart-Disease-Prediction\n"
   ]
  },
  {
   "cell_type": "markdown",
   "id": "f34473b9",
   "metadata": {},
   "source": [
    "Heart Disease Prediction using Data Mining Algorithms and Checking the Efficiency of Different Algorithms\n",
    "\n"
   ]
  },
  {
   "cell_type": "markdown",
   "id": "c88951ec",
   "metadata": {},
   "source": [
    "### Dataset"
   ]
  },
  {
   "cell_type": "markdown",
   "id": "4afc47c4",
   "metadata": {},
   "source": [
    "We have used the dataset from the UCI repository from this website link This dataset gives several variables along with a target condition of having or not having heart disease. It contains 76 attributes, but all published experiments refer to using a subset of 14 of them."
   ]
  },
  {
   "cell_type": "markdown",
   "id": "60a997b1",
   "metadata": {},
   "source": [
    "#### Data Contains:\n"
   ]
  },
  {
   "cell_type": "markdown",
   "id": "507a9753",
   "metadata": {},
   "source": [
    " age - age in years\n",
    "\n",
    "sex - (1 = male; 0 = female)\n",
    "\n",
    "cp - chest pain type\n",
    "\n",
    "trestbps - resting blood pressure (in mm Hg on admission to the hospital)\n",
    "\n",
    "chol - serum cholestoral in mg/dl\n",
    "\n",
    "fbs - (fasting blood sugar > 120 mg/dl) (1 = true; 0 = false)\n",
    "\n",
    "restecg - resting electrocardiographic results\n",
    "\n",
    "thalach - maximum heart rate achieved\n",
    "\n",
    "exang - exercise induced angina (1 = yes; 0 = no)\n",
    "\n",
    "oldpeak - ST depression induced by exercise relative to rest\n",
    "\n",
    "slope - the slope of the peak exercise ST segment\n",
    "\n",
    "ca - number of major vessels (0-3) colored by flourosopy\n",
    "\n",
    "thal - 3 = normal; 6 = fixed defect; 7 = reversable defect\n",
    "\n",
    "target - have disease or not (1=yes, 0=no)"
   ]
  },
  {
   "cell_type": "markdown",
   "id": "720e8c88",
   "metadata": {},
   "source": [
    "### Table of Contents\n"
   ]
  },
  {
   "cell_type": "markdown",
   "id": "e54ca054",
   "metadata": {},
   "source": [
    "1.Data Exploration and Visualizations\n",
    "\n",
    "2.Data Preprocessing\n",
    "\n",
    "3.Preparing ML models\n",
    "\n",
    "4.Models evaluation\n",
    "\n",
    "5.Ensembling\n",
    "\n",
    "6.Conclusion"
   ]
  },
  {
   "cell_type": "markdown",
   "id": "b085c030",
   "metadata": {},
   "source": [
    "### ML models\n"
   ]
  },
  {
   "cell_type": "markdown",
   "id": "424eaff2",
   "metadata": {},
   "source": [
    "Here I take different machine learning algorithms and try to find algorithms that predict accurately.\n",
    "\n",
    "1. Logistic Regression\n",
    "\n",
    "2. Naive Bayes\n",
    "\n",
    "3. Random Forest Classifier\n",
    "\n",
    "4. Extreme Gradient Boost\n",
    "\n",
    "5. K-Nearest Neighbour\n",
    "\n",
    "6. Decision Tree\n",
    "\n",
    "7. Support Vector Machine"
   ]
  },
  {
   "cell_type": "markdown",
   "id": "21983ca8",
   "metadata": {},
   "source": [
    "### Conclusion"
   ]
  },
  {
   "cell_type": "markdown",
   "id": "644c20dd",
   "metadata": {},
   "source": [
    "We started with the data exploration where we got a feeling for the dataset, checked about missing data and learned which features are important. During this process, we used Plotly, seaborn and matplotlib to do the visualizations. During the data preprocessing part, we converted features into numeric ones, grouped values into categories and created a few new features. Afterwards, we started training machine learning models and applied cross-validation to them. Of course, there is still room for improvement, like doing a more extensive feature engineering, by comparing and plotting the features against each other and identifying and removing the noisy features. To increase the accuracy of the model we use ensembling. Here we use the stacking technique.. Lastly, we looked at its confusion matrix and computed the models precision."
   ]
  },
  {
   "cell_type": "code",
   "execution_count": null,
   "id": "1144469e",
   "metadata": {},
   "outputs": [],
   "source": []
  }
 ],
 "metadata": {
  "kernelspec": {
   "display_name": "Python 3",
   "language": "python",
   "name": "python3"
  },
  "language_info": {
   "codemirror_mode": {
    "name": "ipython",
    "version": 3
   },
   "file_extension": ".py",
   "mimetype": "text/x-python",
   "name": "python",
   "nbconvert_exporter": "python",
   "pygments_lexer": "ipython3",
   "version": "3.8.8"
  }
 },
 "nbformat": 4,
 "nbformat_minor": 5
}
